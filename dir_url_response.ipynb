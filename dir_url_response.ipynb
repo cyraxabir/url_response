{
 "cells": [
  {
   "cell_type": "code",
   "execution_count": 1,
   "id": "84fd2912",
   "metadata": {},
   "outputs": [],
   "source": [
    "import re\n",
    "import requests\n",
    "from urllib.parse import urlparse, urlunparse"
   ]
  },
  {
   "cell_type": "markdown",
   "id": "69b30fd3",
   "metadata": {},
   "source": [
    "Input urls to get response output"
   ]
  },
  {
   "cell_type": "code",
   "execution_count": 2,
   "id": "b8d7dbd5",
   "metadata": {},
   "outputs": [
    {
     "name": "stdout",
     "output_type": "stream",
     "text": [
      "Fetching responses for URLs:\n",
      "\n",
      "URL: https://example.com\n",
      "Response Code: 200\n",
      "\n",
      "URL: https://example.com/assets\n",
      "Failed to fetch response.\n"
     ]
    }
   ],
   "source": [
    "\n",
    "# Change this to the path of your output file\n",
    "output_file_path = \"url_dir.txt\"\n",
    "# Change this to the path where you want to save the URLs with successful responses\n",
    "success_file_path = \"got_response.txt\"\n",
    "\n",
    "def extract_urls(file_content):\n",
    "    # Regular expression to match URLs\n",
    "    url_pattern = re.compile(r'https?://[^\\s]+')\n",
    "\n",
    "    # Find all matches in the content\n",
    "    urls = re.findall(url_pattern, file_content)\n",
    "    \n",
    "    return urls\n",
    "\n",
    "def read_dirb_output(file_path):\n",
    "    try:\n",
    "        with open(file_path, 'r') as file:\n",
    "            content = file.read()\n",
    "            return content\n",
    "    except FileNotFoundError:\n",
    "        print(f\"Error: File '{file_path}' not found.\")\n",
    "        return None\n",
    "    except Exception as e:\n",
    "        print(f\"An error occurred: {e}\")\n",
    "        return None\n",
    "\n",
    "def get_url_response(url):\n",
    "    try:\n",
    "        response = requests.get(url)\n",
    "        return response\n",
    "    except requests.exceptions.RequestException as e:\n",
    "        print(f\"Error making request to {url}: {e}\")\n",
    "        return None\n",
    "\n",
    "def save_successful_urls(success_file, url):\n",
    "    with open(success_file, 'a') as file:\n",
    "        file.write(url + '\\n')\n",
    "\n",
    "def remove_trailing_slash(url):\n",
    "    parsed_url = urlparse(url)\n",
    "    path_segments = parsed_url.path.rstrip('/').split('/')\n",
    "    path_segments[-1] = path_segments[-1].rstrip('/')\n",
    "    new_path = '/'.join(path_segments)\n",
    "    \n",
    "    modified_url = urlunparse(parsed_url._replace(path=new_path))\n",
    "    return modified_url\n",
    "\n",
    "def main():\n",
    "    dirb_output = read_dirb_output(output_file_path)\n",
    "    \n",
    "    if dirb_output:\n",
    "        urls = extract_urls(dirb_output)\n",
    "        \n",
    "        if urls:\n",
    "            print(\"Fetching responses for URLs:\")\n",
    "            for url in urls:\n",
    "                # Remove trailing slash from the last path segment\n",
    "                modified_url = remove_trailing_slash(url)\n",
    "                print(f\"\\nURL: {modified_url}\")\n",
    "                \n",
    "                # Fetch response for each URL\n",
    "                response = get_url_response(modified_url)\n",
    "                \n",
    "                if response:\n",
    "                    print(f\"Response Code: {response.status_code}\")\n",
    "                    #print(\"Response Content:\")\n",
    "                    #print(response.text[:300])  # Print the first 300 characters of the response content\n",
    "                    \n",
    "                    # Save URL to success_file if response is successful (e.g., status code 200)\n",
    "                    if response.ok:\n",
    "                        save_successful_urls(success_file_path, modified_url)\n",
    "                else:\n",
    "                    print(\"Failed to fetch response.\")\n",
    "        else:\n",
    "            print(\"No URLs found in the output file.\")\n",
    "\n",
    "if __name__ == \"__main__\":\n",
    "    main()\n"
   ]
  },
  {
   "cell_type": "code",
   "execution_count": null,
   "id": "585f840b",
   "metadata": {},
   "outputs": [],
   "source": []
  }
 ],
 "metadata": {
  "kernelspec": {
   "display_name": "Python 3 (ipykernel)",
   "language": "python",
   "name": "python3"
  },
  "language_info": {
   "codemirror_mode": {
    "name": "ipython",
    "version": 3
   },
   "file_extension": ".py",
   "mimetype": "text/x-python",
   "name": "python",
   "nbconvert_exporter": "python",
   "pygments_lexer": "ipython3",
   "version": "3.11.3"
  }
 },
 "nbformat": 4,
 "nbformat_minor": 5
}
